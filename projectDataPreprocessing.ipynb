{
 "cells": [
  {
   "cell_type": "code",
   "execution_count": 1,
   "metadata": {},
   "outputs": [],
   "source": [
    "corr='https://github.com/EvansDataScience/basicFinal_CompThink/raw/master/data/corruption.csv'\n",
    "econ='https://github.com/EvansDataScience/basicFinal_CompThink/raw/master/data/economic.csv'\n",
    "press='https://github.com/EvansDataScience/basicFinal_CompThink/raw/master/data/pressfreedom.csv'"
   ]
  },
  {
   "cell_type": "markdown",
   "metadata": {},
   "source": [
    "* The _corr_ has data about the _Corruption Perception Index_ (CPI) produced by [Transparency International](https://www.transparency.org/).\n",
    "\n",
    "* The _econ_ has data about the _Economic Freedom Index_ (EFI) produced by [Fraser Institute](https://www.fraserinstitute.org).\n",
    "\n",
    "* The _press_ has data about the _World Press Freedom Index_ (WPFI) produced by [Reporters Without Borders](https://rsf.org/en/world-press-freedom-index).\n",
    "\n",
    "\n",
    "In this case, I want to join them (not concatenate):"
   ]
  },
  {
   "cell_type": "code",
   "execution_count": 2,
   "metadata": {},
   "outputs": [],
   "source": [
    "import pandas as pd\n",
    "corrupt=pd.read_csv(corruptLink,encoding='Latin-1')\n",
    "econo=pd.read_csv(econoLink,encoding='Latin-1')\n",
    "enviro=pd.read_csv(enviroLink,encoding='Latin-1')\n",
    "press=pd.read_csv(pressLink,encoding='Latin-1')"
   ]
  },
  {
   "cell_type": "markdown",
   "metadata": {},
   "source": [
    "As each data set has a differing amount of rows (countries), and possibly a different way to name each one, the result will be far from perfect:"
   ]
  },
  {
   "cell_type": "code",
   "execution_count": 4,
   "metadata": {},
   "outputs": [],
   "source": [
    "join1=pd.merge(corrupt,econo)\n",
    "join2=pd.merge(press,enviro)\n",
    "allIndexes=pd.merge(join1,join2)"
   ]
  },
  {
   "cell_type": "markdown",
   "metadata": {},
   "source": [
    "As always it is good to verify the data types:"
   ]
  },
  {
   "cell_type": "code",
   "execution_count": 5,
   "metadata": {},
   "outputs": [
    {
     "data": {
      "text/plain": [
       "Country             object\n",
       "corruptionIndex      int64\n",
       "ISO                 object\n",
       "scoreEconomy       float64\n",
       "scorepress         float64\n",
       "presscat            object\n",
       "environment        float64\n",
       "environmentCat       int64\n",
       "dtype: object"
      ]
     },
     "execution_count": 5,
     "metadata": {},
     "output_type": "execute_result"
    }
   ],
   "source": [
    "allIndexes.dtypes"
   ]
  },
  {
   "cell_type": "markdown",
   "metadata": {},
   "source": [
    "And check descriptives:"
   ]
  },
  {
   "cell_type": "code",
   "execution_count": 6,
   "metadata": {},
   "outputs": [
    {
     "data": {
      "text/html": [
       "<div>\n",
       "<style scoped>\n",
       "    .dataframe tbody tr th:only-of-type {\n",
       "        vertical-align: middle;\n",
       "    }\n",
       "\n",
       "    .dataframe tbody tr th {\n",
       "        vertical-align: top;\n",
       "    }\n",
       "\n",
       "    .dataframe thead th {\n",
       "        text-align: right;\n",
       "    }\n",
       "</style>\n",
       "<table border=\"1\" class=\"dataframe\">\n",
       "  <thead>\n",
       "    <tr style=\"text-align: right;\">\n",
       "      <th></th>\n",
       "      <th>Country</th>\n",
       "      <th>corruptionIndex</th>\n",
       "      <th>ISO</th>\n",
       "      <th>scoreEconomy</th>\n",
       "      <th>scorepress</th>\n",
       "      <th>presscat</th>\n",
       "      <th>environment</th>\n",
       "      <th>environmentCat</th>\n",
       "    </tr>\n",
       "  </thead>\n",
       "  <tbody>\n",
       "    <tr>\n",
       "      <th>count</th>\n",
       "      <td>129</td>\n",
       "      <td>129.000000</td>\n",
       "      <td>129</td>\n",
       "      <td>129.000000</td>\n",
       "      <td>129.000000</td>\n",
       "      <td>129</td>\n",
       "      <td>129.000000</td>\n",
       "      <td>129.000000</td>\n",
       "    </tr>\n",
       "    <tr>\n",
       "      <th>unique</th>\n",
       "      <td>129</td>\n",
       "      <td>NaN</td>\n",
       "      <td>129</td>\n",
       "      <td>NaN</td>\n",
       "      <td>NaN</td>\n",
       "      <td>3</td>\n",
       "      <td>NaN</td>\n",
       "      <td>NaN</td>\n",
       "    </tr>\n",
       "    <tr>\n",
       "      <th>top</th>\n",
       "      <td>Sri Lanka</td>\n",
       "      <td>NaN</td>\n",
       "      <td>SGP</td>\n",
       "      <td>NaN</td>\n",
       "      <td>NaN</td>\n",
       "      <td>Medium</td>\n",
       "      <td>NaN</td>\n",
       "      <td>NaN</td>\n",
       "    </tr>\n",
       "    <tr>\n",
       "      <th>freq</th>\n",
       "      <td>1</td>\n",
       "      <td>NaN</td>\n",
       "      <td>1</td>\n",
       "      <td>NaN</td>\n",
       "      <td>NaN</td>\n",
       "      <td>71</td>\n",
       "      <td>NaN</td>\n",
       "      <td>NaN</td>\n",
       "    </tr>\n",
       "    <tr>\n",
       "      <th>mean</th>\n",
       "      <td>NaN</td>\n",
       "      <td>45.418605</td>\n",
       "      <td>NaN</td>\n",
       "      <td>6.829457</td>\n",
       "      <td>31.097597</td>\n",
       "      <td>NaN</td>\n",
       "      <td>69.393023</td>\n",
       "      <td>0.542636</td>\n",
       "    </tr>\n",
       "    <tr>\n",
       "      <th>std</th>\n",
       "      <td>NaN</td>\n",
       "      <td>19.296898</td>\n",
       "      <td>NaN</td>\n",
       "      <td>0.907765</td>\n",
       "      <td>13.125220</td>\n",
       "      <td>NaN</td>\n",
       "      <td>14.732355</td>\n",
       "      <td>0.500121</td>\n",
       "    </tr>\n",
       "    <tr>\n",
       "      <th>min</th>\n",
       "      <td>NaN</td>\n",
       "      <td>14.000000</td>\n",
       "      <td>NaN</td>\n",
       "      <td>2.920000</td>\n",
       "      <td>8.590000</td>\n",
       "      <td>NaN</td>\n",
       "      <td>37.100000</td>\n",
       "      <td>0.000000</td>\n",
       "    </tr>\n",
       "    <tr>\n",
       "      <th>25%</th>\n",
       "      <td>NaN</td>\n",
       "      <td>31.000000</td>\n",
       "      <td>NaN</td>\n",
       "      <td>6.320000</td>\n",
       "      <td>22.660000</td>\n",
       "      <td>NaN</td>\n",
       "      <td>59.250000</td>\n",
       "      <td>0.000000</td>\n",
       "    </tr>\n",
       "    <tr>\n",
       "      <th>50%</th>\n",
       "      <td>NaN</td>\n",
       "      <td>40.000000</td>\n",
       "      <td>NaN</td>\n",
       "      <td>6.920000</td>\n",
       "      <td>29.920000</td>\n",
       "      <td>NaN</td>\n",
       "      <td>70.840000</td>\n",
       "      <td>1.000000</td>\n",
       "    </tr>\n",
       "    <tr>\n",
       "      <th>75%</th>\n",
       "      <td>NaN</td>\n",
       "      <td>58.000000</td>\n",
       "      <td>NaN</td>\n",
       "      <td>7.510000</td>\n",
       "      <td>40.430000</td>\n",
       "      <td>NaN</td>\n",
       "      <td>81.260000</td>\n",
       "      <td>1.000000</td>\n",
       "    </tr>\n",
       "    <tr>\n",
       "      <th>max</th>\n",
       "      <td>NaN</td>\n",
       "      <td>90.000000</td>\n",
       "      <td>NaN</td>\n",
       "      <td>8.810000</td>\n",
       "      <td>80.960000</td>\n",
       "      <td>NaN</td>\n",
       "      <td>90.680000</td>\n",
       "      <td>1.000000</td>\n",
       "    </tr>\n",
       "  </tbody>\n",
       "</table>\n",
       "</div>"
      ],
      "text/plain": [
       "          Country  corruptionIndex  ISO  scoreEconomy  scorepress presscat  \\\n",
       "count         129       129.000000  129    129.000000  129.000000      129   \n",
       "unique        129              NaN  129           NaN         NaN        3   \n",
       "top     Sri Lanka              NaN  SGP           NaN         NaN   Medium   \n",
       "freq            1              NaN    1           NaN         NaN       71   \n",
       "mean          NaN        45.418605  NaN      6.829457   31.097597      NaN   \n",
       "std           NaN        19.296898  NaN      0.907765   13.125220      NaN   \n",
       "min           NaN        14.000000  NaN      2.920000    8.590000      NaN   \n",
       "25%           NaN        31.000000  NaN      6.320000   22.660000      NaN   \n",
       "50%           NaN        40.000000  NaN      6.920000   29.920000      NaN   \n",
       "75%           NaN        58.000000  NaN      7.510000   40.430000      NaN   \n",
       "max           NaN        90.000000  NaN      8.810000   80.960000      NaN   \n",
       "\n",
       "        environment  environmentCat  \n",
       "count    129.000000      129.000000  \n",
       "unique          NaN             NaN  \n",
       "top             NaN             NaN  \n",
       "freq            NaN             NaN  \n",
       "mean      69.393023        0.542636  \n",
       "std       14.732355        0.500121  \n",
       "min       37.100000        0.000000  \n",
       "25%       59.250000        0.000000  \n",
       "50%       70.840000        1.000000  \n",
       "75%       81.260000        1.000000  \n",
       "max       90.680000        1.000000  "
      ]
     },
     "execution_count": 6,
     "metadata": {},
     "output_type": "execute_result"
    }
   ],
   "source": [
    "allIndexes.describe(include='all') "
   ]
  },
  {
   "cell_type": "code",
   "execution_count": 7,
   "metadata": {},
   "outputs": [
    {
     "data": {
      "text/html": [
       "<div>\n",
       "<style scoped>\n",
       "    .dataframe tbody tr th:only-of-type {\n",
       "        vertical-align: middle;\n",
       "    }\n",
       "\n",
       "    .dataframe tbody tr th {\n",
       "        vertical-align: top;\n",
       "    }\n",
       "\n",
       "    .dataframe thead th {\n",
       "        text-align: right;\n",
       "    }\n",
       "</style>\n",
       "<table border=\"1\" class=\"dataframe\">\n",
       "  <thead>\n",
       "    <tr style=\"text-align: right;\">\n",
       "      <th></th>\n",
       "      <th>Country</th>\n",
       "      <th>corruptionIndex</th>\n",
       "      <th>ISO</th>\n",
       "      <th>scoreEconomy</th>\n",
       "      <th>scorepress</th>\n",
       "      <th>presscat</th>\n",
       "      <th>environment</th>\n",
       "      <th>environmentCat</th>\n",
       "    </tr>\n",
       "  </thead>\n",
       "  <tbody>\n",
       "    <tr>\n",
       "      <th>0</th>\n",
       "      <td>New Zealand</td>\n",
       "      <td>90</td>\n",
       "      <td>NZL</td>\n",
       "      <td>8.48</td>\n",
       "      <td>10.01</td>\n",
       "      <td>High</td>\n",
       "      <td>88.00</td>\n",
       "      <td>1</td>\n",
       "    </tr>\n",
       "    <tr>\n",
       "      <th>1</th>\n",
       "      <td>Denmark</td>\n",
       "      <td>90</td>\n",
       "      <td>DNK</td>\n",
       "      <td>7.77</td>\n",
       "      <td>8.89</td>\n",
       "      <td>High</td>\n",
       "      <td>89.21</td>\n",
       "      <td>1</td>\n",
       "    </tr>\n",
       "    <tr>\n",
       "      <th>2</th>\n",
       "      <td>Finland</td>\n",
       "      <td>89</td>\n",
       "      <td>FIN</td>\n",
       "      <td>7.75</td>\n",
       "      <td>8.59</td>\n",
       "      <td>High</td>\n",
       "      <td>90.68</td>\n",
       "      <td>1</td>\n",
       "    </tr>\n",
       "    <tr>\n",
       "      <th>3</th>\n",
       "      <td>Sweden</td>\n",
       "      <td>88</td>\n",
       "      <td>SWE</td>\n",
       "      <td>7.65</td>\n",
       "      <td>12.33</td>\n",
       "      <td>High</td>\n",
       "      <td>90.43</td>\n",
       "      <td>1</td>\n",
       "    </tr>\n",
       "    <tr>\n",
       "      <th>4</th>\n",
       "      <td>Switzerland</td>\n",
       "      <td>86</td>\n",
       "      <td>CHE</td>\n",
       "      <td>8.44</td>\n",
       "      <td>11.76</td>\n",
       "      <td>High</td>\n",
       "      <td>86.93</td>\n",
       "      <td>1</td>\n",
       "    </tr>\n",
       "  </tbody>\n",
       "</table>\n",
       "</div>"
      ],
      "text/plain": [
       "       Country  corruptionIndex  ISO  scoreEconomy  scorepress presscat  \\\n",
       "0  New Zealand               90  NZL          8.48       10.01     High   \n",
       "1      Denmark               90  DNK          7.77        8.89     High   \n",
       "2      Finland               89  FIN          7.75        8.59     High   \n",
       "3       Sweden               88  SWE          7.65       12.33     High   \n",
       "4  Switzerland               86  CHE          8.44       11.76     High   \n",
       "\n",
       "   environment  environmentCat  \n",
       "0        88.00               1  \n",
       "1        89.21               1  \n",
       "2        90.68               1  \n",
       "3        90.43               1  \n",
       "4        86.93               1  "
      ]
     },
     "execution_count": 7,
     "metadata": {},
     "output_type": "execute_result"
    }
   ],
   "source": [
    "allIndexes.head()"
   ]
  },
  {
   "cell_type": "markdown",
   "metadata": {},
   "source": [
    "There is some formatting needed:"
   ]
  },
  {
   "cell_type": "markdown",
   "metadata": {},
   "source": [
    "Let's order it:"
   ]
  },
  {
   "cell_type": "code",
   "execution_count": 8,
   "metadata": {},
   "outputs": [
    {
     "data": {
      "text/plain": [
       "['Country',\n",
       " 'corruptionIndex',\n",
       " 'ISO',\n",
       " 'scoreEconomy',\n",
       " 'scorepress',\n",
       " 'presscat',\n",
       " 'environment',\n",
       " 'environmentCat']"
      ]
     },
     "execution_count": 8,
     "metadata": {},
     "output_type": "execute_result"
    }
   ],
   "source": [
    "oldCols=allIndexes.columns.tolist()\n",
    "oldCols"
   ]
  },
  {
   "cell_type": "markdown",
   "metadata": {},
   "source": [
    "When we do not have slices, there is extra work:"
   ]
  },
  {
   "cell_type": "code",
   "execution_count": 9,
   "metadata": {},
   "outputs": [
    {
     "data": {
      "text/plain": [
       "['corruptionIndex', 'scoreEconomy', 'scorepress', 'environment']"
      ]
     },
     "execution_count": 9,
     "metadata": {},
     "output_type": "execute_result"
    }
   ],
   "source": [
    "numericIndex=[oldCols[i] for i in [1,3,4,6]]\n",
    "numericIndex"
   ]
  },
  {
   "cell_type": "code",
   "execution_count": 10,
   "metadata": {},
   "outputs": [
    {
     "data": {
      "text/plain": [
       "['Country',\n",
       " 'ISO',\n",
       " 'corruptionIndex',\n",
       " 'scoreEconomy',\n",
       " 'scorepress',\n",
       " 'environment',\n",
       " 'presscat',\n",
       " 'environmentCat']"
      ]
     },
     "execution_count": 10,
     "metadata": {},
     "output_type": "execute_result"
    }
   ],
   "source": [
    "newValues=[oldCols[0],oldCols[2],*numericIndex,oldCols[5],oldCols[7]]\n",
    "newValues"
   ]
  },
  {
   "cell_type": "markdown",
   "metadata": {},
   "source": [
    "Then, the new order will be:"
   ]
  },
  {
   "cell_type": "code",
   "execution_count": 11,
   "metadata": {},
   "outputs": [
    {
     "data": {
      "text/html": [
       "<div>\n",
       "<style scoped>\n",
       "    .dataframe tbody tr th:only-of-type {\n",
       "        vertical-align: middle;\n",
       "    }\n",
       "\n",
       "    .dataframe tbody tr th {\n",
       "        vertical-align: top;\n",
       "    }\n",
       "\n",
       "    .dataframe thead th {\n",
       "        text-align: right;\n",
       "    }\n",
       "</style>\n",
       "<table border=\"1\" class=\"dataframe\">\n",
       "  <thead>\n",
       "    <tr style=\"text-align: right;\">\n",
       "      <th></th>\n",
       "      <th>Country</th>\n",
       "      <th>ISO</th>\n",
       "      <th>corruptionIndex</th>\n",
       "      <th>scoreEconomy</th>\n",
       "      <th>scorepress</th>\n",
       "      <th>environment</th>\n",
       "      <th>presscat</th>\n",
       "      <th>environmentCat</th>\n",
       "    </tr>\n",
       "  </thead>\n",
       "  <tbody>\n",
       "    <tr>\n",
       "      <th>0</th>\n",
       "      <td>New Zealand</td>\n",
       "      <td>NZL</td>\n",
       "      <td>90</td>\n",
       "      <td>8.48</td>\n",
       "      <td>10.01</td>\n",
       "      <td>88.00</td>\n",
       "      <td>High</td>\n",
       "      <td>1</td>\n",
       "    </tr>\n",
       "    <tr>\n",
       "      <th>1</th>\n",
       "      <td>Denmark</td>\n",
       "      <td>DNK</td>\n",
       "      <td>90</td>\n",
       "      <td>7.77</td>\n",
       "      <td>8.89</td>\n",
       "      <td>89.21</td>\n",
       "      <td>High</td>\n",
       "      <td>1</td>\n",
       "    </tr>\n",
       "    <tr>\n",
       "      <th>2</th>\n",
       "      <td>Finland</td>\n",
       "      <td>FIN</td>\n",
       "      <td>89</td>\n",
       "      <td>7.75</td>\n",
       "      <td>8.59</td>\n",
       "      <td>90.68</td>\n",
       "      <td>High</td>\n",
       "      <td>1</td>\n",
       "    </tr>\n",
       "    <tr>\n",
       "      <th>3</th>\n",
       "      <td>Sweden</td>\n",
       "      <td>SWE</td>\n",
       "      <td>88</td>\n",
       "      <td>7.65</td>\n",
       "      <td>12.33</td>\n",
       "      <td>90.43</td>\n",
       "      <td>High</td>\n",
       "      <td>1</td>\n",
       "    </tr>\n",
       "    <tr>\n",
       "      <th>4</th>\n",
       "      <td>Switzerland</td>\n",
       "      <td>CHE</td>\n",
       "      <td>86</td>\n",
       "      <td>8.44</td>\n",
       "      <td>11.76</td>\n",
       "      <td>86.93</td>\n",
       "      <td>High</td>\n",
       "      <td>1</td>\n",
       "    </tr>\n",
       "  </tbody>\n",
       "</table>\n",
       "</div>"
      ],
      "text/plain": [
       "       Country  ISO  corruptionIndex  scoreEconomy  scorepress  environment  \\\n",
       "0  New Zealand  NZL               90          8.48       10.01        88.00   \n",
       "1      Denmark  DNK               90          7.77        8.89        89.21   \n",
       "2      Finland  FIN               89          7.75        8.59        90.68   \n",
       "3       Sweden  SWE               88          7.65       12.33        90.43   \n",
       "4  Switzerland  CHE               86          8.44       11.76        86.93   \n",
       "\n",
       "  presscat  environmentCat  \n",
       "0     High               1  \n",
       "1     High               1  \n",
       "2     High               1  \n",
       "3     High               1  \n",
       "4     High               1  "
      ]
     },
     "execution_count": 11,
     "metadata": {},
     "output_type": "execute_result"
    }
   ],
   "source": [
    "allIndexes=allIndexes[newValues]\n",
    "allIndexes.head()"
   ]
  },
  {
   "cell_type": "markdown",
   "metadata": {},
   "source": [
    "There are several numeric values. Let's see a summary:"
   ]
  },
  {
   "cell_type": "code",
   "execution_count": 12,
   "metadata": {},
   "outputs": [
    {
     "data": {
      "text/html": [
       "<div>\n",
       "<style scoped>\n",
       "    .dataframe tbody tr th:only-of-type {\n",
       "        vertical-align: middle;\n",
       "    }\n",
       "\n",
       "    .dataframe tbody tr th {\n",
       "        vertical-align: top;\n",
       "    }\n",
       "\n",
       "    .dataframe thead th {\n",
       "        text-align: right;\n",
       "    }\n",
       "</style>\n",
       "<table border=\"1\" class=\"dataframe\">\n",
       "  <thead>\n",
       "    <tr style=\"text-align: right;\">\n",
       "      <th></th>\n",
       "      <th>corruptionIndex</th>\n",
       "      <th>scoreEconomy</th>\n",
       "      <th>scorepress</th>\n",
       "      <th>environment</th>\n",
       "      <th>environmentCat</th>\n",
       "    </tr>\n",
       "  </thead>\n",
       "  <tbody>\n",
       "    <tr>\n",
       "      <th>count</th>\n",
       "      <td>129.000000</td>\n",
       "      <td>129.000000</td>\n",
       "      <td>129.000000</td>\n",
       "      <td>129.000000</td>\n",
       "      <td>129.000000</td>\n",
       "    </tr>\n",
       "    <tr>\n",
       "      <th>mean</th>\n",
       "      <td>45.418605</td>\n",
       "      <td>6.829457</td>\n",
       "      <td>31.097597</td>\n",
       "      <td>69.393023</td>\n",
       "      <td>0.542636</td>\n",
       "    </tr>\n",
       "    <tr>\n",
       "      <th>std</th>\n",
       "      <td>19.296898</td>\n",
       "      <td>0.907765</td>\n",
       "      <td>13.125220</td>\n",
       "      <td>14.732355</td>\n",
       "      <td>0.500121</td>\n",
       "    </tr>\n",
       "    <tr>\n",
       "      <th>min</th>\n",
       "      <td>14.000000</td>\n",
       "      <td>2.920000</td>\n",
       "      <td>8.590000</td>\n",
       "      <td>37.100000</td>\n",
       "      <td>0.000000</td>\n",
       "    </tr>\n",
       "    <tr>\n",
       "      <th>25%</th>\n",
       "      <td>31.000000</td>\n",
       "      <td>6.320000</td>\n",
       "      <td>22.660000</td>\n",
       "      <td>59.250000</td>\n",
       "      <td>0.000000</td>\n",
       "    </tr>\n",
       "    <tr>\n",
       "      <th>50%</th>\n",
       "      <td>40.000000</td>\n",
       "      <td>6.920000</td>\n",
       "      <td>29.920000</td>\n",
       "      <td>70.840000</td>\n",
       "      <td>1.000000</td>\n",
       "    </tr>\n",
       "    <tr>\n",
       "      <th>75%</th>\n",
       "      <td>58.000000</td>\n",
       "      <td>7.510000</td>\n",
       "      <td>40.430000</td>\n",
       "      <td>81.260000</td>\n",
       "      <td>1.000000</td>\n",
       "    </tr>\n",
       "    <tr>\n",
       "      <th>max</th>\n",
       "      <td>90.000000</td>\n",
       "      <td>8.810000</td>\n",
       "      <td>80.960000</td>\n",
       "      <td>90.680000</td>\n",
       "      <td>1.000000</td>\n",
       "    </tr>\n",
       "  </tbody>\n",
       "</table>\n",
       "</div>"
      ],
      "text/plain": [
       "       corruptionIndex  scoreEconomy  scorepress  environment  environmentCat\n",
       "count       129.000000    129.000000  129.000000   129.000000      129.000000\n",
       "mean         45.418605      6.829457   31.097597    69.393023        0.542636\n",
       "std          19.296898      0.907765   13.125220    14.732355        0.500121\n",
       "min          14.000000      2.920000    8.590000    37.100000        0.000000\n",
       "25%          31.000000      6.320000   22.660000    59.250000        0.000000\n",
       "50%          40.000000      6.920000   29.920000    70.840000        1.000000\n",
       "75%          58.000000      7.510000   40.430000    81.260000        1.000000\n",
       "max          90.000000      8.810000   80.960000    90.680000        1.000000"
      ]
     },
     "execution_count": 12,
     "metadata": {},
     "output_type": "execute_result"
    }
   ],
   "source": [
    "allIndexes.describe()"
   ]
  },
  {
   "cell_type": "markdown",
   "metadata": {},
   "source": [
    "It is important to find some monotony issues in these values:"
   ]
  },
  {
   "cell_type": "code",
   "execution_count": 13,
   "metadata": {},
   "outputs": [
    {
     "data": {
      "image/png": "[encoded data removed]",
      "text/plain": [
       "<Figure size 432x288 with 16 Axes>"
      ]
     },
     "metadata": {},
     "output_type": "display_data"
    }
   ],
   "source": [
    "% matplotlib inline\n",
    "import matplotlib.pyplot as plt\n",
    "\n",
    "pd.plotting.scatter_matrix(allIndexes.iloc[:,2:6])\n",
    "plt.show()"
   ]
  },
  {
   "cell_type": "markdown",
   "metadata": {},
   "source": [
    "Score press is negatively correlated to the rest. That means that the score for that column needs to be reversed:"
   ]
  },
  {
   "cell_type": "code",
   "execution_count": 15,
   "metadata": {},
   "outputs": [],
   "source": [
    "# creating reversing function:\n",
    "def reverse(aColumn):\n",
    "    return max(aColumn) - aColumn + min(aColumn)"
   ]
  },
  {
   "cell_type": "code",
   "execution_count": 16,
   "metadata": {},
   "outputs": [],
   "source": [
    "# reversing using function:\n",
    "allIndexes.scorepress=reverse(allIndexes.scorepress)"
   ]
  },
  {
   "cell_type": "markdown",
   "metadata": {},
   "source": [
    "We should see a different result:"
   ]
  },
  {
   "cell_type": "code",
   "execution_count": 17,
   "metadata": {},
   "outputs": [
    {
     "data": {
      "image/png": "[encoded data removed]",
      "text/plain": [
       "<Figure size 432x288 with 16 Axes>"
      ]
     },
     "metadata": {},
     "output_type": "display_data"
    }
   ],
   "source": [
    "pd.plotting.scatter_matrix(allIndexes.iloc[:,2:6])\n",
    "plt.show()"
   ]
  },
  {
   "cell_type": "markdown",
   "metadata": {},
   "source": [
    "The variable _presscat_ needs to be an ordinal factor."
   ]
  },
  {
   "cell_type": "code",
   "execution_count": 19,
   "metadata": {},
   "outputs": [
    {
     "data": {
      "text/plain": [
       "Medium    71\n",
       "High      35\n",
       "Low       23\n",
       "Name: presscat, dtype: int64"
      ]
     },
     "execution_count": 19,
     "metadata": {},
     "output_type": "execute_result"
    }
   ],
   "source": [
    "allIndexes['presscat'].value_counts()"
   ]
  },
  {
   "cell_type": "code",
   "execution_count": 20,
   "metadata": {},
   "outputs": [],
   "source": [
    "allIndexes['presscat'].replace({'Medium':2, \"High\":3, \"Low\":1},inplace=True)"
   ]
  },
  {
   "cell_type": "code",
   "execution_count": 21,
   "metadata": {},
   "outputs": [
    {
     "data": {
      "text/plain": [
       "1    23\n",
       "2    71\n",
       "3    35\n",
       "Name: presscat, dtype: int64"
      ]
     },
     "execution_count": 21,
     "metadata": {},
     "output_type": "execute_result"
    }
   ],
   "source": [
    "allIndexes['presscat'].value_counts(sort=False)"
   ]
  },
  {
   "cell_type": "markdown",
   "metadata": {},
   "source": [
    "The numbers will help R users when they set it as an ordinal. You can convert them to ordinal, but that information will be lost in R."
   ]
  },
  {
   "cell_type": "code",
   "execution_count": 22,
   "metadata": {},
   "outputs": [
    {
     "data": {
      "text/html": [
       "<div>\n",
       "<style scoped>\n",
       "    .dataframe tbody tr th:only-of-type {\n",
       "        vertical-align: middle;\n",
       "    }\n",
       "\n",
       "    .dataframe tbody tr th {\n",
       "        vertical-align: top;\n",
       "    }\n",
       "\n",
       "    .dataframe thead th {\n",
       "        text-align: right;\n",
       "    }\n",
       "</style>\n",
       "<table border=\"1\" class=\"dataframe\">\n",
       "  <thead>\n",
       "    <tr style=\"text-align: right;\">\n",
       "      <th></th>\n",
       "      <th>Country</th>\n",
       "      <th>ISO</th>\n",
       "      <th>corruptionIndex</th>\n",
       "      <th>scoreEconomy</th>\n",
       "      <th>scorepress</th>\n",
       "      <th>environment</th>\n",
       "      <th>presscat</th>\n",
       "      <th>environmentCat</th>\n",
       "    </tr>\n",
       "  </thead>\n",
       "  <tbody>\n",
       "    <tr>\n",
       "      <th>0</th>\n",
       "      <td>New Zealand</td>\n",
       "      <td>NZL</td>\n",
       "      <td>90</td>\n",
       "      <td>8.48</td>\n",
       "      <td>79.54</td>\n",
       "      <td>88.00</td>\n",
       "      <td>3</td>\n",
       "      <td>1</td>\n",
       "    </tr>\n",
       "    <tr>\n",
       "      <th>1</th>\n",
       "      <td>Denmark</td>\n",
       "      <td>DNK</td>\n",
       "      <td>90</td>\n",
       "      <td>7.77</td>\n",
       "      <td>80.66</td>\n",
       "      <td>89.21</td>\n",
       "      <td>3</td>\n",
       "      <td>1</td>\n",
       "    </tr>\n",
       "    <tr>\n",
       "      <th>2</th>\n",
       "      <td>Finland</td>\n",
       "      <td>FIN</td>\n",
       "      <td>89</td>\n",
       "      <td>7.75</td>\n",
       "      <td>80.96</td>\n",
       "      <td>90.68</td>\n",
       "      <td>3</td>\n",
       "      <td>1</td>\n",
       "    </tr>\n",
       "    <tr>\n",
       "      <th>3</th>\n",
       "      <td>Sweden</td>\n",
       "      <td>SWE</td>\n",
       "      <td>88</td>\n",
       "      <td>7.65</td>\n",
       "      <td>77.22</td>\n",
       "      <td>90.43</td>\n",
       "      <td>3</td>\n",
       "      <td>1</td>\n",
       "    </tr>\n",
       "    <tr>\n",
       "      <th>4</th>\n",
       "      <td>Switzerland</td>\n",
       "      <td>CHE</td>\n",
       "      <td>86</td>\n",
       "      <td>8.44</td>\n",
       "      <td>77.79</td>\n",
       "      <td>86.93</td>\n",
       "      <td>3</td>\n",
       "      <td>1</td>\n",
       "    </tr>\n",
       "  </tbody>\n",
       "</table>\n",
       "</div>"
      ],
      "text/plain": [
       "       Country  ISO  corruptionIndex  scoreEconomy  scorepress  environment  \\\n",
       "0  New Zealand  NZL               90          8.48       79.54        88.00   \n",
       "1      Denmark  DNK               90          7.77       80.66        89.21   \n",
       "2      Finland  FIN               89          7.75       80.96        90.68   \n",
       "3       Sweden  SWE               88          7.65       77.22        90.43   \n",
       "4  Switzerland  CHE               86          8.44       77.79        86.93   \n",
       "\n",
       "   presscat  environmentCat  \n",
       "0         3               1  \n",
       "1         3               1  \n",
       "2         3               1  \n",
       "3         3               1  \n",
       "4         3               1  "
      ]
     },
     "execution_count": 22,
     "metadata": {},
     "output_type": "execute_result"
    }
   ],
   "source": [
    "allIndexes.head()"
   ]
  },
  {
   "cell_type": "markdown",
   "metadata": {},
   "source": [
    "We are proposing that the categories coded as numbers follow an asceding format, then let's check if _environmentCat_ should be changed:"
   ]
  },
  {
   "cell_type": "code",
   "execution_count": 23,
   "metadata": {},
   "outputs": [
    {
     "data": {
      "text/plain": [
       "1    70\n",
       "0    59\n",
       "Name: environmentCat, dtype: int64"
      ]
     },
     "execution_count": 23,
     "metadata": {},
     "output_type": "execute_result"
    }
   ],
   "source": [
    "allIndexes['environmentCat'].value_counts()"
   ]
  },
  {
   "cell_type": "markdown",
   "metadata": {},
   "source": [
    "As there is no need for that, just save the file:"
   ]
  },
  {
   "cell_type": "code",
   "execution_count": 24,
   "metadata": {},
   "outputs": [],
   "source": [
    "#allIndexes.to_csv(\"allIndexes.csv\",index=None)"
   ]
  },
  {
   "cell_type": "code",
   "execution_count": null,
   "metadata": {},
   "outputs": [],
   "source": []
  }
 ],
 "metadata": {
  "hide_input": false,
  "kernelspec": {
   "display_name": "Python 3",
   "language": "python",
   "name": "python3"
  },
  "language_info": {
   "codemirror_mode": {
    "name": "ipython",
    "version": 3
   },
   "file_extension": ".py",
   "mimetype": "text/x-python",
   "name": "python",
   "nbconvert_exporter": "python",
   "pygments_lexer": "ipython3",
   "version": "3.6.5"
  }
 },
 "nbformat": 4,
 "nbformat_minor": 2
}
